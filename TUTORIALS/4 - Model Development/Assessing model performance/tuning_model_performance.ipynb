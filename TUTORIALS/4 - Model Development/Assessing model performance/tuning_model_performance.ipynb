{
 "cells": [
  {
   "cell_type": "markdown",
   "metadata": {},
   "source": [
    "# Tuning Model Performance"
   ]
  },
  {
   "cell_type": "markdown",
   "metadata": {},
   "source": [
    "#### Description:"
   ]
  },
  {
   "cell_type": "markdown",
   "metadata": {},
   "source": [
    "This codebook covers how to tune models to improve their performance."
   ]
  },
  {
   "cell_type": "markdown",
   "metadata": {},
   "source": [
    "#### Skill level:"
   ]
  },
  {
   "cell_type": "markdown",
   "metadata": {},
   "source": [
    "- Intermediate"
   ]
  },
  {
   "cell_type": "markdown",
   "metadata": {},
   "source": [
    "### Import the required libraries\n",
    "-------------------------"
   ]
  },
  {
   "cell_type": "code",
   "execution_count": 1,
   "metadata": {},
   "outputs": [],
   "source": [
    "import warnings\n",
    "from sklearn.exceptions import DataConversionWarning\n",
    "import pandas as pd\n",
    "import numpy as np\n",
    "from sklearn.tree import DecisionTreeRegressor\n",
    "from sklearn.ensemble import AdaBoostRegressor\n",
    "from sklearn.svm import SVR\n",
    "from sklearn.model_selection import train_test_split\n",
    "from sklearn.model_selection import GridSearchCV\n",
    "from sklearn.metrics import mean_squared_error, explained_variance_score, mean_absolute_error, mean_squared_error, median_absolute_error, r2_score\n",
    "import matplotlib.pyplot as plt\n",
    "import seaborn as sns"
   ]
  },
  {
   "cell_type": "markdown",
   "metadata": {},
   "source": [
    "### Read data into a Pandas dataframe\n",
    "-------------------------"
   ]
  },
  {
   "cell_type": "code",
   "execution_count": 2,
   "metadata": {},
   "outputs": [],
   "source": [
    "df_raw = pd.read_csv('data/boston.txt', encoding='utf-8')"
   ]
  },
  {
   "cell_type": "markdown",
   "metadata": {},
   "source": [
    "### Check the shape and head of the dataframe\n",
    "-------------------------"
   ]
  },
  {
   "cell_type": "code",
   "execution_count": 3,
   "metadata": {},
   "outputs": [
    {
     "data": {
      "text/plain": [
       "(506, 14)"
      ]
     },
     "execution_count": 3,
     "metadata": {},
     "output_type": "execute_result"
    }
   ],
   "source": [
    "df_raw.shape"
   ]
  },
  {
   "cell_type": "code",
   "execution_count": 4,
   "metadata": {},
   "outputs": [
    {
     "data": {
      "text/html": [
       "<div>\n",
       "<style scoped>\n",
       "    .dataframe tbody tr th:only-of-type {\n",
       "        vertical-align: middle;\n",
       "    }\n",
       "\n",
       "    .dataframe tbody tr th {\n",
       "        vertical-align: top;\n",
       "    }\n",
       "\n",
       "    .dataframe thead th {\n",
       "        text-align: right;\n",
       "    }\n",
       "</style>\n",
       "<table border=\"1\" class=\"dataframe\">\n",
       "  <thead>\n",
       "    <tr style=\"text-align: right;\">\n",
       "      <th></th>\n",
       "      <th>CRIM</th>\n",
       "      <th>ZN</th>\n",
       "      <th>INDUS</th>\n",
       "      <th>CHAS</th>\n",
       "      <th>NOX</th>\n",
       "      <th>RM</th>\n",
       "      <th>AGE</th>\n",
       "      <th>DIS</th>\n",
       "      <th>RAD</th>\n",
       "      <th>TAX</th>\n",
       "      <th>PTRATIO</th>\n",
       "      <th>B</th>\n",
       "      <th>LSTAT</th>\n",
       "      <th>MDEV</th>\n",
       "    </tr>\n",
       "  </thead>\n",
       "  <tbody>\n",
       "    <tr>\n",
       "      <th>0</th>\n",
       "      <td>0.00632</td>\n",
       "      <td>18.0</td>\n",
       "      <td>2.31</td>\n",
       "      <td>0.0</td>\n",
       "      <td>0.538</td>\n",
       "      <td>6.575</td>\n",
       "      <td>65.2</td>\n",
       "      <td>4.0900</td>\n",
       "      <td>1.0</td>\n",
       "      <td>296.0</td>\n",
       "      <td>15.3</td>\n",
       "      <td>396.90</td>\n",
       "      <td>4.98</td>\n",
       "      <td>24.0</td>\n",
       "    </tr>\n",
       "    <tr>\n",
       "      <th>1</th>\n",
       "      <td>0.02731</td>\n",
       "      <td>0.0</td>\n",
       "      <td>7.07</td>\n",
       "      <td>0.0</td>\n",
       "      <td>0.469</td>\n",
       "      <td>6.421</td>\n",
       "      <td>78.9</td>\n",
       "      <td>4.9671</td>\n",
       "      <td>2.0</td>\n",
       "      <td>242.0</td>\n",
       "      <td>17.8</td>\n",
       "      <td>396.90</td>\n",
       "      <td>9.14</td>\n",
       "      <td>21.6</td>\n",
       "    </tr>\n",
       "    <tr>\n",
       "      <th>2</th>\n",
       "      <td>0.02729</td>\n",
       "      <td>0.0</td>\n",
       "      <td>7.07</td>\n",
       "      <td>0.0</td>\n",
       "      <td>0.469</td>\n",
       "      <td>7.185</td>\n",
       "      <td>61.1</td>\n",
       "      <td>4.9671</td>\n",
       "      <td>2.0</td>\n",
       "      <td>242.0</td>\n",
       "      <td>17.8</td>\n",
       "      <td>392.83</td>\n",
       "      <td>4.03</td>\n",
       "      <td>34.7</td>\n",
       "    </tr>\n",
       "    <tr>\n",
       "      <th>3</th>\n",
       "      <td>0.03237</td>\n",
       "      <td>0.0</td>\n",
       "      <td>2.18</td>\n",
       "      <td>0.0</td>\n",
       "      <td>0.458</td>\n",
       "      <td>6.998</td>\n",
       "      <td>45.8</td>\n",
       "      <td>6.0622</td>\n",
       "      <td>3.0</td>\n",
       "      <td>222.0</td>\n",
       "      <td>18.7</td>\n",
       "      <td>394.63</td>\n",
       "      <td>2.94</td>\n",
       "      <td>33.4</td>\n",
       "    </tr>\n",
       "    <tr>\n",
       "      <th>4</th>\n",
       "      <td>0.06905</td>\n",
       "      <td>0.0</td>\n",
       "      <td>2.18</td>\n",
       "      <td>0.0</td>\n",
       "      <td>0.458</td>\n",
       "      <td>7.147</td>\n",
       "      <td>54.2</td>\n",
       "      <td>6.0622</td>\n",
       "      <td>3.0</td>\n",
       "      <td>222.0</td>\n",
       "      <td>18.7</td>\n",
       "      <td>396.90</td>\n",
       "      <td>5.33</td>\n",
       "      <td>36.2</td>\n",
       "    </tr>\n",
       "  </tbody>\n",
       "</table>\n",
       "</div>"
      ],
      "text/plain": [
       "      CRIM    ZN  INDUS  CHAS    NOX     RM   AGE     DIS  RAD    TAX  \\\n",
       "0  0.00632  18.0   2.31   0.0  0.538  6.575  65.2  4.0900  1.0  296.0   \n",
       "1  0.02731   0.0   7.07   0.0  0.469  6.421  78.9  4.9671  2.0  242.0   \n",
       "2  0.02729   0.0   7.07   0.0  0.469  7.185  61.1  4.9671  2.0  242.0   \n",
       "3  0.03237   0.0   2.18   0.0  0.458  6.998  45.8  6.0622  3.0  222.0   \n",
       "4  0.06905   0.0   2.18   0.0  0.458  7.147  54.2  6.0622  3.0  222.0   \n",
       "\n",
       "   PTRATIO       B  LSTAT  MDEV  \n",
       "0     15.3  396.90   4.98  24.0  \n",
       "1     17.8  396.90   9.14  21.6  \n",
       "2     17.8  392.83   4.03  34.7  \n",
       "3     18.7  394.63   2.94  33.4  \n",
       "4     18.7  396.90   5.33  36.2  "
      ]
     },
     "execution_count": 4,
     "metadata": {},
     "output_type": "execute_result"
    }
   ],
   "source": [
    "df_raw.head()"
   ]
  },
  {
   "cell_type": "markdown",
   "metadata": {},
   "source": [
    "### Separate features from the label\n",
    "-------------------------"
   ]
  },
  {
   "cell_type": "code",
   "execution_count": 5,
   "metadata": {},
   "outputs": [],
   "source": [
    "X_all = df_raw.drop('MDEV', axis=1)"
   ]
  },
  {
   "cell_type": "code",
   "execution_count": 6,
   "metadata": {},
   "outputs": [],
   "source": [
    "y_true_all = df_raw[['MDEV']].values"
   ]
  },
  {
   "cell_type": "markdown",
   "metadata": {},
   "source": [
    "### Make a split between training and test sets of data\n",
    "-------------------------"
   ]
  },
  {
   "cell_type": "code",
   "execution_count": 7,
   "metadata": {},
   "outputs": [],
   "source": [
    "def shuffle_split_data(y_true_all, X_all, test_size):\n",
    "    X_train, X_test, y_true_train, y_true_test = train_test_split(X_all, y_true_all, test_size=test_size)\n",
    "\n",
    "    return X_train, y_true_train, X_test, y_true_test"
   ]
  },
  {
   "cell_type": "code",
   "execution_count": 8,
   "metadata": {},
   "outputs": [],
   "source": [
    "X_train, y_true_train, X_test, y_true_test = shuffle_split_data(y_true_all, X_all, test_size=0.3)"
   ]
  },
  {
   "cell_type": "markdown",
   "metadata": {},
   "source": [
    "### Assess model performance over various training and test splits\n",
    "-------------------------"
   ]
  },
  {
   "cell_type": "code",
   "execution_count": 9,
   "metadata": {},
   "outputs": [],
   "source": [
    "def performance_metric(y_true, y_pred, metric):\n",
    "\n",
    "    if metric == 'mean_squared_error':\n",
    "        score = mean_squared_error(y_true, y_pred)\n",
    "        \n",
    "    elif metric == 'explained_variance_score':\n",
    "        score = explained_variance_score(y_true, y_pred)\n",
    "        \n",
    "    elif metric == 'mean_absolute_error':\n",
    "        score = mean_absolute_error(y_true, y_pred)\n",
    "        \n",
    "    elif metric == 'mean_squared_error':\n",
    "        score = mean_squared_error(y_true, y_pred)\n",
    "\n",
    "    elif metric == 'median_absolute_error':\n",
    "        score = median_absolute_error(y_true, y_pred)\n",
    "\n",
    "    else:\n",
    "        score = r2_score(y_true, y_pred)\n",
    "\n",
    "    return score\n",
    "\n",
    "\n",
    "def eval_clf(clf, X, y_true, metric):\n",
    "    y_pred = clf.predict(X)\n",
    "\n",
    "    score = performance_metric(y_true, y_pred, metric)\n",
    "\n",
    "    return score\n",
    "\n",
    "\n",
    "def get_learning_curves(y_true_all, X_all, metric):\n",
    "    np.random.seed(0)\n",
    "\n",
    "    plt.clf()\n",
    "\n",
    "    fig = plt.figure(figsize=(18, 6))\n",
    "\n",
    "    training_sizes = np.round(np.linspace(0.1, 0.9, 5), 10)\n",
    "\n",
    "    # DT -------------------------------\n",
    "\n",
    "    df_results = pd.DataFrame(columns=['s', 'score', 'set'])\n",
    "\n",
    "    for s in training_sizes:\n",
    "        for i in range(0, 5):\n",
    "            X_train, y_true_train, X_test, y_true_test = shuffle_split_data(y_true_all, X_all, 1 - s)\n",
    "\n",
    "            clf = DecisionTreeRegressor()\n",
    "            clf = clf.fit(X_train, y_true_train)\n",
    "\n",
    "            train_s = eval_clf(clf, X_train, y_true_train, metric)\n",
    "            test_s = eval_clf(clf, X_test, y_true_test, metric)\n",
    "\n",
    "            df_results.loc[len(df_results.index)] = [s, test_s, 'test']\n",
    "            df_results.loc[len(df_results.index)] = [s, train_s, 'train']\n",
    "\n",
    "    ax = fig.add_subplot(1, 3, 1)\n",
    "\n",
    "    ax = sns.pointplot(x='s', y='score', hue='set', data=df_results)\n",
    "\n",
    "    ax.legend()\n",
    "    ax.set_title('Decision Tree')\n",
    "    ax.set_xlabel('training set size (%)')\n",
    "    ax.set_ylabel(metric)\n",
    "    \n",
    "\n",
    "    # DT w Boost -------------------------------\n",
    "\n",
    "    df_results = pd.DataFrame(columns=['s', 'score', 'set'])\n",
    "\n",
    "    for s in training_sizes:\n",
    "        for i in range(0, 5):\n",
    "            X_train, y_true_train, X_test, y_true_test = shuffle_split_data(y_true_all, X_all, 1 - s)\n",
    "\n",
    "            clf = AdaBoostRegressor(base_estimator=DecisionTreeRegressor())\n",
    "            clf = clf.fit(X_train, y_true_train)\n",
    "\n",
    "            train_s = eval_clf(clf, X_train, y_true_train, metric)\n",
    "            test_s = eval_clf(clf, X_test, y_true_test, metric)\n",
    "\n",
    "            df_results.loc[len(df_results.index)] = [s, test_s, 'test']\n",
    "            df_results.loc[len(df_results.index)] = [s, train_s, 'train']\n",
    "\n",
    "    ax = fig.add_subplot(1, 3, 2)\n",
    "\n",
    "    ax = sns.pointplot(x='s', y='score', hue='set', data=df_results)\n",
    "\n",
    "    ax.legend()\n",
    "    ax.set_title('Decision Tree with Boosting')\n",
    "    ax.set_xlabel('training set size (%)')\n",
    "    ax.set_ylabel(metric)\n",
    "    \n",
    "\n",
    "    # SVR -------------------------------\n",
    "\n",
    "    df_results = pd.DataFrame(columns=['s', 'score', 'set'])\n",
    "\n",
    "    for s in training_sizes:\n",
    "        for i in range(0, 5):\n",
    "            X_train, y_true_train, X_test, y_true_test = shuffle_split_data(y_true_all, X_all, 1 - s)\n",
    "\n",
    "            clf = SVR()\n",
    "            clf = clf.fit(X_train, y_true_train)\n",
    "\n",
    "            train_s = eval_clf(clf, X_train, y_true_train, metric)\n",
    "            test_s = eval_clf(clf, X_test, y_true_test, metric)\n",
    "\n",
    "            df_results.loc[len(df_results.index)] = [s, test_s, 'test']\n",
    "            df_results.loc[len(df_results.index)] = [s, train_s, 'train']\n",
    "\n",
    "    ax = fig.add_subplot(1, 3, 3)\n",
    "\n",
    "    ax = sns.pointplot(x='s', y='score', hue='set', data=df_results)\n",
    "\n",
    "    ax.legend()\n",
    "    ax.set_title('Support Vector Machine')\n",
    "    ax.set_xlabel('training set size (%)')\n",
    "    ax.set_ylabel(metric)\n",
    "\n",
    "    return fig"
   ]
  },
  {
   "cell_type": "code",
   "execution_count": 10,
   "metadata": {},
   "outputs": [
    {
     "data": {
      "text/plain": [
       "<Figure size 432x288 with 0 Axes>"
      ]
     },
     "metadata": {},
     "output_type": "display_data"
    },
    {
     "data": {
      "image/png": "[encoded data removed]",
      "text/plain": [
       "<Figure size 1296x432 with 3 Axes>"
      ]
     },
     "metadata": {
      "needs_background": "light"
     },
     "output_type": "display_data"
    }
   ],
   "source": [
    "warnings.filterwarnings(action='ignore', category=DataConversionWarning)\n",
    "\n",
    "fig = get_learning_curves(y_true_all, X_all, 'r2_score')"
   ]
  },
  {
   "cell_type": "markdown",
   "metadata": {},
   "source": [
    "### Assess model performance by varying model complexity parameters\n",
    "-------------------------"
   ]
  },
  {
   "cell_type": "code",
   "execution_count": 11,
   "metadata": {},
   "outputs": [],
   "source": [
    "def get_complexity_curves(y_true_all, X_all, test_size, metric):\n",
    "    np.random.seed(0)\n",
    "\n",
    "    plt.clf()\n",
    "\n",
    "    fig = plt.figure(figsize=(18, 6))\n",
    "\n",
    "    X_train, y_true_train, X_test, y_true_test = shuffle_split_data(y_true_all, X_all, test_size)\n",
    "\n",
    "    # DT -------------------------------\n",
    "\n",
    "    df_results = pd.DataFrame(columns=['s', 'score', 'set'])\n",
    "\n",
    "    max_depth = np.linspace(1, 20, 10, dtype=int)\n",
    "\n",
    "    for p in max_depth:\n",
    "        \n",
    "        for i in range(0, 5):\n",
    "            clf = DecisionTreeRegressor(max_depth=p)\n",
    "            clf = clf.fit(X_train, y_true_train)\n",
    "\n",
    "            train_s = eval_clf(clf, X_train, y_true_train, metric)\n",
    "            test_s = eval_clf(clf, X_test, y_true_test, metric)\n",
    "\n",
    "            df_results.loc[len(df_results.index)] = [p, test_s, 'test']\n",
    "            df_results.loc[len(df_results.index)] = [p, train_s, 'train']\n",
    "\n",
    "    ax = fig.add_subplot(1, 3, 1)\n",
    "\n",
    "    ax = sns.pointplot(x='s', y='score', hue='set', data=df_results)\n",
    "\n",
    "    ax.legend()\n",
    "    ax.set_title('Decision Tree')\n",
    "    ax.set_xlabel('max_depth')\n",
    "    ax.set_ylabel(metric)\n",
    "    \n",
    "\n",
    "    # DT w Boost -------------------------------\n",
    "\n",
    "    df_results = pd.DataFrame(columns=['s', 'score', 'set'])\n",
    "    \n",
    "    n_estimators = np.linspace(10, 100, 10, dtype=int)\n",
    "\n",
    "    for p in n_estimators:\n",
    "        \n",
    "        for i in range(0, 5):\n",
    "            clf = AdaBoostRegressor(base_estimator=DecisionTreeRegressor(max_depth=3), n_estimators=p)\n",
    "            clf = clf.fit(X_train, y_true_train)\n",
    "\n",
    "            train_s = eval_clf(clf, X_train, y_true_train, metric)\n",
    "            test_s = eval_clf(clf, X_test, y_true_test, metric)\n",
    "\n",
    "            df_results.loc[len(df_results.index)] = [p, test_s, 'test']\n",
    "            df_results.loc[len(df_results.index)] = [p, train_s, 'train']\n",
    "\n",
    "    ax = fig.add_subplot(1, 3, 2)\n",
    "\n",
    "    ax = sns.pointplot(x='s', y='score', hue='set', data=df_results)\n",
    "\n",
    "    ax.legend()\n",
    "    ax.set_title('Decision Tree with Boosting')\n",
    "    ax.set_xlabel('n_estimators')\n",
    "    ax.set_ylabel(metric)\n",
    "    \n",
    "\n",
    "    # SVR -------------------------------\n",
    "\n",
    "    df_results = pd.DataFrame(columns=['s', 'score', 'set'])\n",
    "\n",
    "    gamma = np.round(np.linspace(0.00001, 0.001, 10), 10)\n",
    "\n",
    "    for p in gamma:\n",
    "\n",
    "        for i in range(0, 5):\n",
    "            clf = SVR(gamma=p)\n",
    "            clf = clf.fit(X_train, y_true_train)\n",
    "\n",
    "            train_s = eval_clf(clf, X_train, y_true_train, metric)\n",
    "            test_s = eval_clf(clf, X_test, y_true_test, metric)\n",
    "\n",
    "            df_results.loc[len(df_results.index)] = [p, test_s, 'test']\n",
    "            df_results.loc[len(df_results.index)] = [p, train_s, 'train']\n",
    "\n",
    "    ax = fig.add_subplot(1, 3, 3)\n",
    "\n",
    "    ax = sns.pointplot(x='s', y='score', hue='set', data=df_results)\n",
    "\n",
    "    ax.legend()\n",
    "    ax.set_title('Support Vector Machine')\n",
    "    ax.set_xlabel('gamma')\n",
    "    ax.set_ylabel(metric)\n",
    "    \n",
    "    return fig"
   ]
  },
  {
   "cell_type": "code",
   "execution_count": 12,
   "metadata": {},
   "outputs": [
    {
     "data": {
      "text/plain": [
       "<Figure size 432x288 with 0 Axes>"
      ]
     },
     "metadata": {},
     "output_type": "display_data"
    },
    {
     "data": {
      "image/png": "[encoded data removed]",
      "text/plain": [
       "<Figure size 1296x432 with 3 Axes>"
      ]
     },
     "metadata": {
      "needs_background": "light"
     },
     "output_type": "display_data"
    }
   ],
   "source": [
    "fig = get_complexity_curves(y_true_all, X_all, 0.3, 'r2_score')"
   ]
  },
  {
   "cell_type": "markdown",
   "metadata": {},
   "source": [
    "### Use GridSearch Cross Validation to automatically tune a set of parameters\n",
    "-------------------------"
   ]
  },
  {
   "cell_type": "code",
   "execution_count": 13,
   "metadata": {},
   "outputs": [],
   "source": [
    "X_train, y_true_train, X_test, y_true_test = shuffle_split_data(y_true_all, X_all, 0.3)"
   ]
  },
  {
   "cell_type": "code",
   "execution_count": 14,
   "metadata": {},
   "outputs": [],
   "source": [
    "parameters = [\n",
    "    {\n",
    "        'C': [1, 10, 100, 1000],\n",
    "        'kernel': ['rbf'],\n",
    "        'gamma': [0.5, 0.1, 0.001, 0.0001],\n",
    "    }\n",
    "]\n",
    "\n",
    "clf = SVR()\n",
    "\n",
    "grid_search = GridSearchCV(estimator=clf, param_grid=parameters, scoring='neg_mean_squared_error', cv=10, n_jobs=-1)\n",
    "grid_search = grid_search.fit(X_train, y_true_train)"
   ]
  },
  {
   "cell_type": "markdown",
   "metadata": {},
   "source": [
    "### Get the score and parameter values for the best model\n",
    "-------------------------"
   ]
  },
  {
   "cell_type": "code",
   "execution_count": 15,
   "metadata": {},
   "outputs": [
    {
     "name": "stdout",
     "output_type": "stream",
     "text": [
      "SVR(C=1000, gamma=0.0001)\n"
     ]
    }
   ],
   "source": [
    "print(grid_search.best_estimator_)"
   ]
  },
  {
   "cell_type": "code",
   "execution_count": 16,
   "metadata": {},
   "outputs": [
    {
     "name": "stdout",
     "output_type": "stream",
     "text": [
      "-23.279562374831873\n"
     ]
    }
   ],
   "source": [
    "print(grid_search.best_score_)"
   ]
  },
  {
   "cell_type": "code",
   "execution_count": 17,
   "metadata": {},
   "outputs": [
    {
     "name": "stdout",
     "output_type": "stream",
     "text": [
      "{'C': 1000, 'gamma': 0.0001, 'kernel': 'rbf'}\n"
     ]
    }
   ],
   "source": [
    "print(grid_search.best_params_)"
   ]
  }
 ],
 "metadata": {
  "kernelspec": {
   "display_name": "Python 3",
   "language": "python",
   "name": "python3"
  },
  "language_info": {
   "codemirror_mode": {
    "name": "ipython",
    "version": 3
   },
   "file_extension": ".py",
   "mimetype": "text/x-python",
   "name": "python",
   "nbconvert_exporter": "python",
   "pygments_lexer": "ipython3",
   "version": "3.8.5"
  }
 },
 "nbformat": 4,
 "nbformat_minor": 4
}
