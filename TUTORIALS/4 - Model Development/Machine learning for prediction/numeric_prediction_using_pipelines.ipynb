{
 "cells": [
  {
   "cell_type": "markdown",
   "metadata": {},
   "source": [
    "# Numerical Prediction using Model Pipelines"
   ]
  },
  {
   "cell_type": "markdown",
   "metadata": {},
   "source": [
    "#### Description:"
   ]
  },
  {
   "cell_type": "markdown",
   "metadata": {},
   "source": [
    "This codebook covers how to use model pipelines to make a numerical prediction."
   ]
  },
  {
   "cell_type": "markdown",
   "metadata": {},
   "source": [
    "#### Skill level:"
   ]
  },
  {
   "cell_type": "markdown",
   "metadata": {},
   "source": [
    "- Advanced"
   ]
  },
  {
   "cell_type": "markdown",
   "metadata": {},
   "source": [
    "-------------------------\n",
    "### Import the required libraries"
   ]
  },
  {
   "cell_type": "code",
   "execution_count": null,
   "metadata": {},
   "outputs": [],
   "source": [
    "import os\n",
    "import sys\n",
    "\n",
    "platform_path = os.path.abspath(os.path.join(os.path.abspath(''), '../../../'))\n",
    "sys.path.append(platform_path)"
   ]
  },
  {
   "cell_type": "code",
   "execution_count": 2,
   "metadata": {},
   "outputs": [],
   "source": [
    "import warnings\n",
    "from sklearn.exceptions import DataConversionWarning\n",
    "warnings.filterwarnings(action='ignore', category=DataConversionWarning)\n",
    "import HELPERS.machine_learning.model_development as md\n",
    "import HELPERS.machine_learning.model_evaluation as me\n",
    "import pandas as pd\n",
    "import numpy as np\n",
    "from sklearn.model_selection import train_test_split\n",
    "import matplotlib.pyplot as plt\n",
    "import seaborn as sns"
   ]
  },
  {
   "cell_type": "markdown",
   "metadata": {},
   "source": [
    "-------------------------\n",
    "### Read data into a dataframe"
   ]
  },
  {
   "cell_type": "code",
   "execution_count": 3,
   "metadata": {},
   "outputs": [],
   "source": [
    "df_raw = pd.read_csv(os.path.join(platform_path, 'DATA/boston.txt'))"
   ]
  },
  {
   "cell_type": "markdown",
   "metadata": {},
   "source": [
    "-------------------------\n",
    "### Check shape and head of the dataframe"
   ]
  },
  {
   "cell_type": "code",
   "execution_count": 4,
   "metadata": {},
   "outputs": [
    {
     "data": {
      "text/plain": [
       "(506, 14)"
      ]
     },
     "execution_count": 4,
     "metadata": {},
     "output_type": "execute_result"
    }
   ],
   "source": [
    "df_raw.shape"
   ]
  },
  {
   "cell_type": "code",
   "execution_count": 5,
   "metadata": {},
   "outputs": [
    {
     "data": {
      "text/html": [
       "<div>\n",
       "<style scoped>\n",
       "    .dataframe tbody tr th:only-of-type {\n",
       "        vertical-align: middle;\n",
       "    }\n",
       "\n",
       "    .dataframe tbody tr th {\n",
       "        vertical-align: top;\n",
       "    }\n",
       "\n",
       "    .dataframe thead th {\n",
       "        text-align: right;\n",
       "    }\n",
       "</style>\n",
       "<table border=\"1\" class=\"dataframe\">\n",
       "  <thead>\n",
       "    <tr style=\"text-align: right;\">\n",
       "      <th></th>\n",
       "      <th>CRIM</th>\n",
       "      <th>ZN</th>\n",
       "      <th>INDUS</th>\n",
       "      <th>CHAS</th>\n",
       "      <th>NOX</th>\n",
       "      <th>RM</th>\n",
       "      <th>AGE</th>\n",
       "      <th>DIS</th>\n",
       "      <th>RAD</th>\n",
       "      <th>TAX</th>\n",
       "      <th>PTRATIO</th>\n",
       "      <th>B</th>\n",
       "      <th>LSTAT</th>\n",
       "      <th>MDEV</th>\n",
       "    </tr>\n",
       "  </thead>\n",
       "  <tbody>\n",
       "    <tr>\n",
       "      <th>0</th>\n",
       "      <td>0.00632</td>\n",
       "      <td>18.0</td>\n",
       "      <td>2.31</td>\n",
       "      <td>0.0</td>\n",
       "      <td>0.538</td>\n",
       "      <td>6.575</td>\n",
       "      <td>65.2</td>\n",
       "      <td>4.0900</td>\n",
       "      <td>1.0</td>\n",
       "      <td>296.0</td>\n",
       "      <td>15.3</td>\n",
       "      <td>396.90</td>\n",
       "      <td>4.98</td>\n",
       "      <td>24.0</td>\n",
       "    </tr>\n",
       "    <tr>\n",
       "      <th>1</th>\n",
       "      <td>0.02731</td>\n",
       "      <td>0.0</td>\n",
       "      <td>7.07</td>\n",
       "      <td>0.0</td>\n",
       "      <td>0.469</td>\n",
       "      <td>6.421</td>\n",
       "      <td>78.9</td>\n",
       "      <td>4.9671</td>\n",
       "      <td>2.0</td>\n",
       "      <td>242.0</td>\n",
       "      <td>17.8</td>\n",
       "      <td>396.90</td>\n",
       "      <td>9.14</td>\n",
       "      <td>21.6</td>\n",
       "    </tr>\n",
       "    <tr>\n",
       "      <th>2</th>\n",
       "      <td>0.02729</td>\n",
       "      <td>0.0</td>\n",
       "      <td>7.07</td>\n",
       "      <td>0.0</td>\n",
       "      <td>0.469</td>\n",
       "      <td>7.185</td>\n",
       "      <td>61.1</td>\n",
       "      <td>4.9671</td>\n",
       "      <td>2.0</td>\n",
       "      <td>242.0</td>\n",
       "      <td>17.8</td>\n",
       "      <td>392.83</td>\n",
       "      <td>4.03</td>\n",
       "      <td>34.7</td>\n",
       "    </tr>\n",
       "    <tr>\n",
       "      <th>3</th>\n",
       "      <td>0.03237</td>\n",
       "      <td>0.0</td>\n",
       "      <td>2.18</td>\n",
       "      <td>0.0</td>\n",
       "      <td>0.458</td>\n",
       "      <td>6.998</td>\n",
       "      <td>45.8</td>\n",
       "      <td>6.0622</td>\n",
       "      <td>3.0</td>\n",
       "      <td>222.0</td>\n",
       "      <td>18.7</td>\n",
       "      <td>394.63</td>\n",
       "      <td>2.94</td>\n",
       "      <td>33.4</td>\n",
       "    </tr>\n",
       "    <tr>\n",
       "      <th>4</th>\n",
       "      <td>0.06905</td>\n",
       "      <td>0.0</td>\n",
       "      <td>2.18</td>\n",
       "      <td>0.0</td>\n",
       "      <td>0.458</td>\n",
       "      <td>7.147</td>\n",
       "      <td>54.2</td>\n",
       "      <td>6.0622</td>\n",
       "      <td>3.0</td>\n",
       "      <td>222.0</td>\n",
       "      <td>18.7</td>\n",
       "      <td>396.90</td>\n",
       "      <td>5.33</td>\n",
       "      <td>36.2</td>\n",
       "    </tr>\n",
       "  </tbody>\n",
       "</table>\n",
       "</div>"
      ],
      "text/plain": [
       "      CRIM    ZN  INDUS  CHAS    NOX     RM   AGE     DIS  RAD    TAX  \\\n",
       "0  0.00632  18.0   2.31   0.0  0.538  6.575  65.2  4.0900  1.0  296.0   \n",
       "1  0.02731   0.0   7.07   0.0  0.469  6.421  78.9  4.9671  2.0  242.0   \n",
       "2  0.02729   0.0   7.07   0.0  0.469  7.185  61.1  4.9671  2.0  242.0   \n",
       "3  0.03237   0.0   2.18   0.0  0.458  6.998  45.8  6.0622  3.0  222.0   \n",
       "4  0.06905   0.0   2.18   0.0  0.458  7.147  54.2  6.0622  3.0  222.0   \n",
       "\n",
       "   PTRATIO       B  LSTAT  MDEV  \n",
       "0     15.3  396.90   4.98  24.0  \n",
       "1     17.8  396.90   9.14  21.6  \n",
       "2     17.8  392.83   4.03  34.7  \n",
       "3     18.7  394.63   2.94  33.4  \n",
       "4     18.7  396.90   5.33  36.2  "
      ]
     },
     "execution_count": 5,
     "metadata": {},
     "output_type": "execute_result"
    }
   ],
   "source": [
    "df_raw.head()"
   ]
  },
  {
   "cell_type": "markdown",
   "metadata": {},
   "source": [
    "-------------------------\n",
    "### Separate features from the label"
   ]
  },
  {
   "cell_type": "code",
   "execution_count": 6,
   "metadata": {},
   "outputs": [],
   "source": [
    "X_all = df_raw.drop('MDEV', axis=1)"
   ]
  },
  {
   "cell_type": "code",
   "execution_count": 7,
   "metadata": {},
   "outputs": [],
   "source": [
    "y_true_all = df_raw[['MDEV']].values"
   ]
  },
  {
   "cell_type": "markdown",
   "metadata": {},
   "source": [
    "-------------------------\n",
    "### Make a split between training and test sets of data"
   ]
  },
  {
   "cell_type": "code",
   "execution_count": 8,
   "metadata": {},
   "outputs": [],
   "source": [
    "X_train, X_test, y_true_train, y_true_test = train_test_split(X_all, y_true_all, test_size=0.3)"
   ]
  },
  {
   "cell_type": "code",
   "execution_count": 9,
   "metadata": {},
   "outputs": [],
   "source": [
    "dic_X = {'X_train': X_train, 'X_test': X_test}\n",
    "dic_y = {'y_true_train': y_true_train, 'y_true_test': y_true_test}"
   ]
  },
  {
   "cell_type": "markdown",
   "metadata": {},
   "source": [
    "-------------------------\n",
    "### Fit a model pipeline with a normalizer and linear regressor"
   ]
  },
  {
   "cell_type": "code",
   "execution_count": 10,
   "metadata": {},
   "outputs": [
    {
     "name": "stdout",
     "output_type": "stream",
     "text": [
      "pipe_refs :  [('normp_0', Normalizer()), ('olsr_0', LinearRegression())] \n",
      "\n",
      "dic_pipe_params:\n",
      "--------\n",
      "{}\n",
      "\n",
      "\n",
      "dic_best:\n",
      "--------\n",
      "{'best_clf': Pipeline(steps=[('normp_0', Normalizer()), ('olsr_0', LinearRegression())]), 'best_param': {}, 'best_score': -3.5375478765480497}\n",
      "\n",
      "\n",
      "dic_score:\n",
      "--------\n",
      "{'explained_variance': 0.7498781392123846, 'mean_absolute_error': 3.029840201733932, 'mean_squared_error': 18.39078961546441, 'mean_squared_log_error': 0.06829203716068703, 'median_absolute_error': 2.127107987896524, 'r2': 0.7498484341205727}\n",
      "\n",
      "\n",
      "time:  0.04 seconds\n",
      "\n",
      "\n"
     ]
    }
   ],
   "source": [
    "ls_clf_select = ['normp_0', 'olsr_0']  # Normalizer + Linear Regression\n",
    "\n",
    "pipe_refs, dic_pipe_params, dic_best, dic_score, time = md.execute_pipe(ls_clf_select, dic_X, dic_y,\n",
    "                                                                        split_type='kfold',\n",
    "                                                                        n_splits=3,\n",
    "                                                                        cv_type='gridsearch',\n",
    "                                                                        score_type='neg_mean_absolute_error',\n",
    "                                                                        prob_type='regression')\n",
    "\n",
    "print('pipe_refs : ', pipe_refs, '\\n')\n",
    "\n",
    "print('dic_pipe_params:')\n",
    "print('--------')\n",
    "print(dic_pipe_params)\n",
    "print('\\n')\n",
    "\n",
    "print('dic_best:')\n",
    "print('--------')\n",
    "print(dic_best)\n",
    "print('\\n')\n",
    "\n",
    "print('dic_score:')\n",
    "print('--------')\n",
    "print(dic_score)\n",
    "print('\\n')\n",
    "\n",
    "print('time: ', round(time, 2), 'seconds\\n\\n')"
   ]
  },
  {
   "cell_type": "markdown",
   "metadata": {},
   "source": [
    "-------------------------\n",
    "### Try a series of different model pipelines"
   ]
  },
  {
   "cell_type": "code",
   "execution_count": 11,
   "metadata": {},
   "outputs": [
    {
     "name": "stdout",
     "output_type": "stream",
     "text": [
      "----------------------------------------------------------\n",
      "clf_select :  ['mmsp_0', 'dtr_0'] \n",
      "\n",
      "pipe_refs :  [('mmsp_0', MinMaxScaler()), ('dtr_0', DecisionTreeRegressor())] \n",
      "\n",
      "dic_pipe_params:\n",
      "--------\n",
      "{}\n",
      "\n",
      "\n",
      "dic_best:\n",
      "--------\n",
      "{'best_clf': Pipeline(steps=[('mmsp_0', MinMaxScaler()), ('dtr_0', DecisionTreeRegressor())]), 'best_param': {}, 'best_score': -3.221186440677966}\n",
      "\n",
      "\n",
      "dic_score:\n",
      "--------\n",
      "{'explained_variance': 0.6297799206714307, 'mean_absolute_error': 3.2532894736842106, 'mean_squared_error': 27.226907894736847, 'mean_squared_log_error': 0.05183842961990932, 'median_absolute_error': 2.0, 'r2': 0.6296595314104259}\n",
      "\n",
      "\n",
      "time:  0.03 seconds\n",
      "\n",
      "\n",
      "----------------------------------------------------------\n",
      "clf_select :  ['mmsp_0', 'rfr_1'] \n",
      "\n",
      "pipe_refs :  [('mmsp_0', MinMaxScaler()), ('rfr_1', RandomForestRegressor())] \n",
      "\n",
      "dic_pipe_params:\n",
      "--------\n",
      "{'rfr_1__n_estimators': [8, 9, 10, 11, 12], 'rfr_1__min_samples_split': [2, 3, 4, 5, 6], 'rfr_1__min_samples_leaf': [1, 2, 3], 'rfr_1__max_features': ['auto', 'sqrt', 'log2', None]}\n",
      "\n",
      "\n",
      "dic_best:\n",
      "--------\n",
      "{'best_clf': Pipeline(steps=[('mmsp_0', MinMaxScaler()),\n",
      "                ('rfr_1',\n",
      "                 RandomForestRegressor(max_features=None, n_estimators=12))]), 'best_param': {'rfr_1__max_features': None, 'rfr_1__min_samples_leaf': 1, 'rfr_1__min_samples_split': 2, 'rfr_1__n_estimators': 12}, 'best_score': -2.5222693032015058}\n",
      "\n",
      "\n",
      "dic_score:\n",
      "--------\n",
      "{'explained_variance': 0.8744718006293866, 'mean_absolute_error': 2.1439692982456138, 'mean_squared_error': 9.26501461988304, 'mean_squared_log_error': 0.02235378554478084, 'median_absolute_error': 1.4708333333333332, 'r2': 0.8739772482030537}\n",
      "\n",
      "\n",
      "time:  16.13 seconds\n",
      "\n",
      "\n",
      "----------------------------------------------------------\n",
      "clf_select :  ['stdsp_0', 'adabr_1'] \n",
      "\n",
      "pipe_refs :  [('stdsp_0', StandardScaler()), ('adabr_1', AdaBoostRegressor(base_estimator=DecisionTreeRegressor()))] \n",
      "\n",
      "dic_pipe_params:\n",
      "--------\n",
      "{'adabr_1__n_estimators': [30, 40, 50, 60, 70], 'adabr_1__learning_rate': [0.001, 0.01, 0.1, 1.0], 'adabr_1__loss': ['linear', 'square', 'exponential']}\n",
      "\n",
      "\n",
      "dic_best:\n",
      "--------\n",
      "{'best_clf': Pipeline(steps=[('stdsp_0', StandardScaler()),\n",
      "                ('adabr_1',\n",
      "                 AdaBoostRegressor(base_estimator=DecisionTreeRegressor(),\n",
      "                                   loss='exponential', n_estimators=60))]), 'best_param': {'adabr_1__learning_rate': 1.0, 'adabr_1__loss': 'exponential', 'adabr_1__n_estimators': 60}, 'best_score': -2.341525423728813}\n",
      "\n",
      "\n",
      "dic_score:\n",
      "--------\n",
      "{'explained_variance': 0.880584550295244, 'mean_absolute_error': 2.0296052631578947, 'mean_squared_error': 8.817434210526315, 'mean_squared_log_error': 0.020395579036555766, 'median_absolute_error': 1.299999999999998, 'r2': 0.8800652380391939}\n",
      "\n",
      "\n",
      "time:  17.55 seconds\n",
      "\n",
      "\n"
     ]
    }
   ],
   "source": [
    "# list of pipelines to try\n",
    "ls_clf_select = [['mmsp_0', 'dtr_0'],  # MinMax Scaler + DT Regressor\n",
    "                 ['mmsp_0', 'rfr_1'],  # MinMax Scaler + Random Forest Regressor w parameter optimization\n",
    "                 ['stdsp_0', 'adabr_1']]  # Standard Scaler + Boosted Tree Regressor w parameter optimization\n",
    "\n",
    "# score pipelines\n",
    "for idx, c in enumerate(ls_clf_select):\n",
    "    print('----------------------------------------------------------')\n",
    "    print('clf_select : ', c, '\\n')\n",
    "    \n",
    "    pipe_refs, dic_pipe_params, dic_best, dic_score, time = md.execute_pipe(c, dic_X, dic_y,\n",
    "                                                                            split_type='kfold',\n",
    "                                                                            n_splits=3,\n",
    "                                                                            cv_type='gridsearch',\n",
    "                                                                            score_type='neg_mean_absolute_error',\n",
    "                                                                            prob_type='regression')\n",
    "\n",
    "    print('pipe_refs : ', pipe_refs, '\\n')\n",
    "\n",
    "    print('dic_pipe_params:')\n",
    "    print('--------')\n",
    "    print(dic_pipe_params)\n",
    "    print('\\n')\n",
    "\n",
    "    print('dic_best:')\n",
    "    print('--------')\n",
    "    print(dic_best)\n",
    "    print('\\n')\n",
    "\n",
    "    print('dic_score:')\n",
    "    print('--------')\n",
    "    print(dic_score)\n",
    "    print('\\n')\n",
    "\n",
    "    print('time: ', round(time, 2), 'seconds\\n\\n')"
   ]
  },
  {
   "cell_type": "markdown",
   "metadata": {},
   "source": [
    "-------------------------\n",
    "### Generate predictions using the best pipeline"
   ]
  },
  {
   "cell_type": "code",
   "execution_count": 12,
   "metadata": {},
   "outputs": [],
   "source": [
    "clf = dic_best['best_clf']"
   ]
  },
  {
   "cell_type": "code",
   "execution_count": 13,
   "metadata": {},
   "outputs": [],
   "source": [
    "y_pred_train = clf.predict(X_train.values)\n",
    "y_pred_test = clf.predict(X_test.values)"
   ]
  },
  {
   "cell_type": "markdown",
   "metadata": {},
   "source": [
    "-------------------------\n",
    "### Check predictions against actuals"
   ]
  },
  {
   "cell_type": "code",
   "execution_count": 14,
   "metadata": {},
   "outputs": [
    {
     "data": {
      "image/png": "[encoded data removed]",
      "text/plain": [
       "<Figure size 576x432 with 1 Axes>"
      ]
     },
     "metadata": {
      "needs_background": "light"
     },
     "output_type": "display_data"
    }
   ],
   "source": [
    "fig, ax = plt.subplots(figsize=(8,6))\n",
    "\n",
    "ax.scatter(x=y_true_test, y=y_pred_test, color='b')\n",
    "ax.axline([0, 0], [1, 1])\n",
    "\n",
    "plt.xlabel('actuals')\n",
    "plt.ylabel('predictions')\n",
    "plt.show()"
   ]
  },
  {
   "cell_type": "markdown",
   "metadata": {},
   "source": [
    "-------------------------\n",
    "### Get model performance metrics"
   ]
  },
  {
   "cell_type": "code",
   "execution_count": 15,
   "metadata": {},
   "outputs": [
    {
     "name": "stdout",
     "output_type": "stream",
     "text": [
      "mean_squared_error 0.0054\n",
      "explained_variance_score 0.9999\n",
      "mean_absolute_error 0.0133\n",
      "mean_squared_error 0.0054\n",
      "median_absolute_error 0.0\n",
      "r2_score 0.9999\n"
     ]
    }
   ],
   "source": [
    "me.get_regression_metrics(y_true_train, y_pred_train)"
   ]
  },
  {
   "cell_type": "code",
   "execution_count": 16,
   "metadata": {},
   "outputs": [
    {
     "name": "stdout",
     "output_type": "stream",
     "text": [
      "mean_squared_error 8.8174\n",
      "explained_variance_score 0.8806\n",
      "mean_absolute_error 2.0296\n",
      "mean_squared_error 8.8174\n",
      "median_absolute_error 1.3\n",
      "r2_score 0.8801\n"
     ]
    }
   ],
   "source": [
    "me.get_regression_metrics(y_true_test, y_pred_test)"
   ]
  },
  {
   "cell_type": "code",
   "execution_count": null,
   "metadata": {},
   "outputs": [],
   "source": []
  }
 ],
 "metadata": {
  "kernelspec": {
   "display_name": "Python 3",
   "language": "python",
   "name": "python3"
  },
  "language_info": {
   "codemirror_mode": {
    "name": "ipython",
    "version": 3
   },
   "file_extension": ".py",
   "mimetype": "text/x-python",
   "name": "python",
   "nbconvert_exporter": "python",
   "pygments_lexer": "ipython3",
   "version": "3.8.5"
  }
 },
 "nbformat": 4,
 "nbformat_minor": 4
}
