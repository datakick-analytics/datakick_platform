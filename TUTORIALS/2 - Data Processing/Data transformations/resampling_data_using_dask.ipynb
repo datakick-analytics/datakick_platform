{
 "cells": [
  {
   "cell_type": "markdown",
   "metadata": {},
   "source": [
    "# Resampling data using Dask"
   ]
  },
  {
   "cell_type": "markdown",
   "metadata": {},
   "source": [
    "#### Description:"
   ]
  },
  {
   "cell_type": "markdown",
   "metadata": {},
   "source": [
    "This codebook covers how to resample daily share price data into weekly frequency using Dask."
   ]
  },
  {
   "cell_type": "markdown",
   "metadata": {},
   "source": [
    "#### Skill level:"
   ]
  },
  {
   "cell_type": "markdown",
   "metadata": {},
   "source": [
    "- Intermediate"
   ]
  },
  {
   "cell_type": "markdown",
   "metadata": {},
   "source": [
    "### Import the required libraries\n",
    "-------------------------"
   ]
  },
  {
   "cell_type": "code",
   "execution_count": 1,
   "metadata": {},
   "outputs": [],
   "source": [
    "import os\n",
    "import sys\n",
    "\n",
    "platform_path = os.path.abspath(os.path.join(os.path.abspath(''), '../../../'))\n",
    "sys.path.append(platform_path)"
   ]
  },
  {
   "cell_type": "code",
   "execution_count": 2,
   "metadata": {},
   "outputs": [],
   "source": [
    "#!pip install pyarrow"
   ]
  },
  {
   "cell_type": "code",
   "execution_count": 3,
   "metadata": {},
   "outputs": [],
   "source": [
    "import pandas as pd\n",
    "import numpy as np\n",
    "import dask.dataframe as dd\n",
    "from dask.distributed import Client, progress"
   ]
  },
  {
   "cell_type": "markdown",
   "metadata": {},
   "source": [
    "-------------------------\n",
    "### Read data into a dataframe"
   ]
  },
  {
   "cell_type": "code",
   "execution_count": 4,
   "metadata": {},
   "outputs": [],
   "source": [
    "df_raw = pd.read_csv(os.path.join(platform_path, 'DATA/share_price.csv.gz'), compression='gzip')"
   ]
  },
  {
   "cell_type": "markdown",
   "metadata": {},
   "source": [
    "-------------------------\n",
    "### Check the shape and head of the dataframe"
   ]
  },
  {
   "cell_type": "code",
   "execution_count": 5,
   "metadata": {},
   "outputs": [
    {
     "data": {
      "text/plain": [
       "(1000000, 11)"
      ]
     },
     "execution_count": 5,
     "metadata": {},
     "output_type": "execute_result"
    }
   ],
   "source": [
    "df_raw.shape"
   ]
  },
  {
   "cell_type": "code",
   "execution_count": 6,
   "metadata": {},
   "outputs": [
    {
     "data": {
      "text/html": [
       "<div>\n",
       "<style scoped>\n",
       "    .dataframe tbody tr th:only-of-type {\n",
       "        vertical-align: middle;\n",
       "    }\n",
       "\n",
       "    .dataframe tbody tr th {\n",
       "        vertical-align: top;\n",
       "    }\n",
       "\n",
       "    .dataframe thead th {\n",
       "        text-align: right;\n",
       "    }\n",
       "</style>\n",
       "<table border=\"1\" class=\"dataframe\">\n",
       "  <thead>\n",
       "    <tr style=\"text-align: right;\">\n",
       "      <th></th>\n",
       "      <th>ticker</th>\n",
       "      <th>date</th>\n",
       "      <th>open</th>\n",
       "      <th>high</th>\n",
       "      <th>low</th>\n",
       "      <th>close</th>\n",
       "      <th>volume</th>\n",
       "      <th>dividends</th>\n",
       "      <th>closeunadj</th>\n",
       "      <th>lastupdated</th>\n",
       "      <th>dimension</th>\n",
       "    </tr>\n",
       "  </thead>\n",
       "  <tbody>\n",
       "    <tr>\n",
       "      <th>0</th>\n",
       "      <td>A</td>\n",
       "      <td>2021-02-05</td>\n",
       "      <td>124.510</td>\n",
       "      <td>125.96</td>\n",
       "      <td>123.11</td>\n",
       "      <td>123.18</td>\n",
       "      <td>1919704.0</td>\n",
       "      <td>0.0</td>\n",
       "      <td>123.18</td>\n",
       "      <td>2021-02-05</td>\n",
       "      <td>D</td>\n",
       "    </tr>\n",
       "    <tr>\n",
       "      <th>1</th>\n",
       "      <td>AA</td>\n",
       "      <td>2021-02-05</td>\n",
       "      <td>20.580</td>\n",
       "      <td>20.98</td>\n",
       "      <td>20.22</td>\n",
       "      <td>20.95</td>\n",
       "      <td>5235006.0</td>\n",
       "      <td>0.0</td>\n",
       "      <td>20.95</td>\n",
       "      <td>2021-02-05</td>\n",
       "      <td>D</td>\n",
       "    </tr>\n",
       "    <tr>\n",
       "      <th>2</th>\n",
       "      <td>AAC.U</td>\n",
       "      <td>2021-02-05</td>\n",
       "      <td>10.700</td>\n",
       "      <td>10.75</td>\n",
       "      <td>10.55</td>\n",
       "      <td>10.55</td>\n",
       "      <td>528129.0</td>\n",
       "      <td>0.0</td>\n",
       "      <td>10.55</td>\n",
       "      <td>2021-02-05</td>\n",
       "      <td>D</td>\n",
       "    </tr>\n",
       "    <tr>\n",
       "      <th>3</th>\n",
       "      <td>AACG</td>\n",
       "      <td>2021-02-05</td>\n",
       "      <td>10.020</td>\n",
       "      <td>10.12</td>\n",
       "      <td>5.60</td>\n",
       "      <td>6.33</td>\n",
       "      <td>18333641.0</td>\n",
       "      <td>0.0</td>\n",
       "      <td>6.33</td>\n",
       "      <td>2021-02-05</td>\n",
       "      <td>D</td>\n",
       "    </tr>\n",
       "    <tr>\n",
       "      <th>4</th>\n",
       "      <td>AACQ</td>\n",
       "      <td>2021-02-05</td>\n",
       "      <td>11.232</td>\n",
       "      <td>11.74</td>\n",
       "      <td>11.19</td>\n",
       "      <td>11.30</td>\n",
       "      <td>1053149.0</td>\n",
       "      <td>0.0</td>\n",
       "      <td>11.30</td>\n",
       "      <td>2021-02-05</td>\n",
       "      <td>D</td>\n",
       "    </tr>\n",
       "  </tbody>\n",
       "</table>\n",
       "</div>"
      ],
      "text/plain": [
       "  ticker        date     open    high     low   close      volume  dividends  \\\n",
       "0      A  2021-02-05  124.510  125.96  123.11  123.18   1919704.0        0.0   \n",
       "1     AA  2021-02-05   20.580   20.98   20.22   20.95   5235006.0        0.0   \n",
       "2  AAC.U  2021-02-05   10.700   10.75   10.55   10.55    528129.0        0.0   \n",
       "3   AACG  2021-02-05   10.020   10.12    5.60    6.33  18333641.0        0.0   \n",
       "4   AACQ  2021-02-05   11.232   11.74   11.19   11.30   1053149.0        0.0   \n",
       "\n",
       "   closeunadj lastupdated dimension  \n",
       "0      123.18  2021-02-05         D  \n",
       "1       20.95  2021-02-05         D  \n",
       "2       10.55  2021-02-05         D  \n",
       "3        6.33  2021-02-05         D  \n",
       "4       11.30  2021-02-05         D  "
      ]
     },
     "execution_count": 6,
     "metadata": {},
     "output_type": "execute_result"
    }
   ],
   "source": [
    "df_raw.head()"
   ]
  },
  {
   "cell_type": "markdown",
   "metadata": {},
   "source": [
    "-------------------------\n",
    "### Check and convert column datatypes"
   ]
  },
  {
   "cell_type": "code",
   "execution_count": 7,
   "metadata": {},
   "outputs": [
    {
     "data": {
      "text/plain": [
       "ticker          object\n",
       "date            object\n",
       "open           float64\n",
       "high           float64\n",
       "low            float64\n",
       "close          float64\n",
       "volume         float64\n",
       "dividends      float64\n",
       "closeunadj     float64\n",
       "lastupdated     object\n",
       "dimension       object\n",
       "dtype: object"
      ]
     },
     "execution_count": 7,
     "metadata": {},
     "output_type": "execute_result"
    }
   ],
   "source": [
    "df_raw.dtypes"
   ]
  },
  {
   "cell_type": "code",
   "execution_count": 8,
   "metadata": {},
   "outputs": [],
   "source": [
    "dic_dtypes_sharadar_sep = {\n",
    "    'ticker': 'object',\n",
    "    'dimension': 'object',\n",
    "    'date': 'datetime64',\n",
    "    'open': 'float64',\n",
    "    'high': 'float64',\n",
    "    'low': 'float64',\n",
    "    'closeunadj': 'float64',\n",
    "    'close': 'float64',\n",
    "    'volume': 'float64',\n",
    "    'dividends': 'float64',\n",
    "    'lastupdated': 'datetime64',\n",
    "}\n",
    "\n",
    "dic_dtypes = dic_dtypes_sharadar_sep\n",
    "\n",
    "df = df_raw\n",
    "\n",
    "for col, type in dic_dtypes.items():\n",
    "    if type == 'int64':\n",
    "        df[col] = pd.to_numeric(df[col], errors='coerce').fillna(0)\n",
    "    elif type == 'float64':\n",
    "        df[col] = pd.to_numeric(df[col], errors='coerce')\n",
    "    elif type == 'datetime64':\n",
    "        df[col] = pd.to_datetime(df[col], errors='coerce')"
   ]
  },
  {
   "cell_type": "markdown",
   "metadata": {},
   "source": [
    "-------------------------\n",
    "### Sort values and drop any duplicates"
   ]
  },
  {
   "cell_type": "code",
   "execution_count": 10,
   "metadata": {},
   "outputs": [],
   "source": [
    "unique_cols = ['ticker', 'dimension', 'date']\n",
    "\n",
    "df = df.sort_values(by=unique_cols)\n",
    "df = df.dropna(subset=unique_cols, how='any')\n",
    "df = df.drop_duplicates(subset=unique_cols, keep='first')\n",
    "\n",
    "df = df.reset_index(drop=True)"
   ]
  },
  {
   "cell_type": "markdown",
   "metadata": {},
   "source": [
    "-------------------------\n",
    "### Split data into chunks and write into parquet form"
   ]
  },
  {
   "cell_type": "code",
   "execution_count": 11,
   "metadata": {},
   "outputs": [
    {
     "name": "stdout",
     "output_type": "stream",
     "text": [
      "INFO: writing chunk 0\n",
      "INFO: writing chunk 1\n",
      "INFO: writing chunk 2\n",
      "INFO: writing chunk 3\n",
      "INFO: writing chunk 4\n",
      "INFO: writing chunk 5\n"
     ]
    }
   ],
   "source": [
    "df = df.set_index('ticker', drop=False)\n",
    "\n",
    "chunks = 6\n",
    "\n",
    "ls_tickers = df['ticker'].unique()\n",
    "ticker_chunks = np.array_split(ls_tickers, chunks)\n",
    "\n",
    "for i, c in enumerate(ticker_chunks):\n",
    "    print('INFO: writing chunk {}'.format(i))\n",
    "\n",
    "    df[df['ticker'].isin(c)].to_parquet(os.path.join(platform_path, 'DATA/share_prices_in/' + '{}.parq'.format(i)),\n",
    "            index=True, engine='pyarrow', partition_cols=['ticker'])"
   ]
  },
  {
   "cell_type": "markdown",
   "metadata": {},
   "source": [
    "-------------------------\n",
    "### Resample daily chunk data into weekly frequency and write back to parquet form"
   ]
  },
  {
   "cell_type": "code",
   "execution_count": 12,
   "metadata": {},
   "outputs": [
    {
     "name": "stdout",
     "output_type": "stream",
     "text": [
      "INFO: processing chunk 0\n",
      "INFO: processing chunk 1\n",
      "INFO: processing chunk 2\n",
      "INFO: processing chunk 3\n",
      "INFO: processing chunk 4\n",
      "INFO: processing chunk 5\n"
     ]
    }
   ],
   "source": [
    "dimension = \"W\"\n",
    "\n",
    "agg_dict = {'open': 'first',\n",
    "            'high': 'max',\n",
    "            'low': 'min',\n",
    "            'closeunadj': 'last',\n",
    "            'close': 'last',\n",
    "            'volume': 'sum',\n",
    "            'dividends': 'sum',\n",
    "            'lastupdated': 'last'}\n",
    "\n",
    "ticker_dict = {'ticker': 'last'}\n",
    "\n",
    "def dim_red(df):\n",
    "    return df.set_index('date').resample(dimension).agg({**agg_dict, **ticker_dict})\n",
    "\n",
    "\n",
    "for i, parq in enumerate(sorted(os.listdir(platform_path + 'DATA/share_prices_in/'))):\n",
    "    print('INFO: processing chunk {}'.format(i))\n",
    "\n",
    "    df = dd.read_parquet(os.path.join(platform_path, 'DATA/share_prices_in/' + '{}.parq'.format(i)),\n",
    "                         columns=['date', 'open', 'high', 'low', 'closeunadj',\n",
    "                                  'close', 'volume', 'dividends', 'lastupdated'],\n",
    "                         engine='pyarrow')\n",
    "\n",
    "    df = df.reset_index()\n",
    "    df = df.map_partitions(lambda df: dim_red(df)).compute()\n",
    "    df = df.reset_index()\n",
    "    \n",
    "    df.to_parquet(os.path.join(platform_path, 'DATA/share_prices_out/' + '{}.parq'.format(i)),\n",
    "            index=True, engine='pyarrow', partition_cols=['ticker'])"
   ]
  }
 ],
 "metadata": {
  "kernelspec": {
   "display_name": "Python 3",
   "language": "python",
   "name": "python3"
  },
  "language_info": {
   "codemirror_mode": {
    "name": "ipython",
    "version": 3
   },
   "file_extension": ".py",
   "mimetype": "text/x-python",
   "name": "python",
   "nbconvert_exporter": "python",
   "pygments_lexer": "ipython3",
   "version": "3.8.5"
  }
 },
 "nbformat": 4,
 "nbformat_minor": 4
}
