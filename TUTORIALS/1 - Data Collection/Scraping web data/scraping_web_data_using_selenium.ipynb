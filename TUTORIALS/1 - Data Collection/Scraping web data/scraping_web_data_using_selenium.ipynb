{
 "cells": [
  {
   "cell_type": "markdown",
   "metadata": {},
   "source": [
    "# Scraping web data using Selenium"
   ]
  },
  {
   "cell_type": "markdown",
   "metadata": {},
   "source": [
    "#### Description:"
   ]
  },
  {
   "cell_type": "markdown",
   "metadata": {},
   "source": [
    "This codebook covers methods for scraping web data using Selenium."
   ]
  },
  {
   "cell_type": "markdown",
   "metadata": {},
   "source": [
    "#### Skill level:"
   ]
  },
  {
   "cell_type": "markdown",
   "metadata": {},
   "source": [
    "- Beginner"
   ]
  },
  {
   "cell_type": "markdown",
   "metadata": {},
   "source": [
    "### Import the required libraries\n",
    "-------------------------"
   ]
  },
  {
   "cell_type": "code",
   "execution_count": null,
   "metadata": {},
   "outputs": [],
   "source": [
    "import requests\n",
    "from bs4 import BeautifulSoup"
   ]
  },
  {
   "cell_type": "markdown",
   "metadata": {},
   "source": [
    "### Create a request for a simple URL\n",
    "-------------------------"
   ]
  },
  {
   "cell_type": "code",
   "execution_count": 2,
   "metadata": {},
   "outputs": [],
   "source": [
    "response = requests.get('https://datakick.sfo2.digitaloceanspaces.com/datakick/media/platform/tutorials/scraping-web-data-using-selenium/simple.html')"
   ]
  },
  {
   "cell_type": "markdown",
   "metadata": {},
   "source": [
    "### Check the content of the raw URL response\n",
    "-------------------------"
   ]
  },
  {
   "cell_type": "code",
   "execution_count": 3,
   "metadata": {},
   "outputs": [
    {
     "name": "stdout",
     "output_type": "stream",
     "text": [
      "content: b'<!DOCTYPE html>\\r\\n<html>\\r\\n    <head>\\r\\n        <title>A simple example page</title>\\r\\n    </head>\\r\\n    <body>\\r\\n        <p>Here is some simple content for this page.</p>\\r\\n    </body>\\r\\n</html>'\n"
     ]
    }
   ],
   "source": [
    "content = response.content\n",
    "\n",
    "print(\"content:\", content)"
   ]
  },
  {
   "cell_type": "markdown",
   "metadata": {},
   "source": [
    "### Create a parser for the raw URL response and extract specific content\n",
    "-------------------------"
   ]
  },
  {
   "cell_type": "code",
   "execution_count": 4,
   "metadata": {},
   "outputs": [],
   "source": [
    "parser = BeautifulSoup(content, 'html.parser')"
   ]
  },
  {
   "cell_type": "code",
   "execution_count": 5,
   "metadata": {},
   "outputs": [
    {
     "name": "stdout",
     "output_type": "stream",
     "text": [
      "<body> content:\n",
      " <body>\n",
      "<p>Here is some simple content for this page.</p>\n",
      "</body>\n"
     ]
    }
   ],
   "source": [
    "# Get the body tag contents from the document\n",
    "body_content = parser.body\n",
    "\n",
    "print(\"<body> content:\\n\", body_content)"
   ]
  },
  {
   "cell_type": "code",
   "execution_count": 6,
   "metadata": {},
   "outputs": [
    {
     "name": "stdout",
     "output_type": "stream",
     "text": [
      "<p> content: <p>Here is some simple content for this page.</p>\n"
     ]
    }
   ],
   "source": [
    "# Get the p tag content from the body tag\n",
    "p_content = parser.body.p\n",
    "\n",
    "print(\"<p> content:\", p_content)"
   ]
  },
  {
   "cell_type": "code",
   "execution_count": 7,
   "metadata": {},
   "outputs": [
    {
     "name": "stdout",
     "output_type": "stream",
     "text": [
      "<p> text: Here is some simple content for this page.\n"
     ]
    }
   ],
   "source": [
    "# Get the text from the p tag\n",
    "p_text = parser.body.p.text\n",
    "\n",
    "print(\"<p> text:\", p_text)"
   ]
  },
  {
   "cell_type": "markdown",
   "metadata": {},
   "source": [
    "### Create a request for a URL with multiple id tags\n",
    "-------------------------"
   ]
  },
  {
   "cell_type": "code",
   "execution_count": 8,
   "metadata": {},
   "outputs": [],
   "source": [
    "response = requests.get('https://datakick.sfo2.digitaloceanspaces.com/datakick/media/platform/tutorials/scraping-web-data-using-selenium/simple_ids.html')"
   ]
  },
  {
   "cell_type": "markdown",
   "metadata": {},
   "source": [
    "### Check the content of the raw URL response\n",
    "-------------------------"
   ]
  },
  {
   "cell_type": "code",
   "execution_count": 9,
   "metadata": {},
   "outputs": [
    {
     "name": "stdout",
     "output_type": "stream",
     "text": [
      "content: b'<html>\\r\\n    <head>\\r\\n        <title>A simple example page</title>\\r\\n    </head>\\r\\n    <body>\\r\\n        <div>\\r\\n            <p id=\"first\">\\r\\n                First paragraph.\\r\\n            </p>\\r\\n        </div>\\r\\n        <p id=\"second\">\\r\\n            <b>\\r\\n                Second paragraph.\\r\\n            </b>\\r\\n        </p>\\r\\n    </body>\\r\\n</html>'\n"
     ]
    }
   ],
   "source": [
    "content = response.content\n",
    "\n",
    "print(\"content:\", content)"
   ]
  },
  {
   "cell_type": "markdown",
   "metadata": {},
   "source": [
    "### Create a parser for the raw URL response and extract specific content\n",
    "-------------------------"
   ]
  },
  {
   "cell_type": "code",
   "execution_count": 10,
   "metadata": {},
   "outputs": [],
   "source": [
    "parser = BeautifulSoup(content, 'html.parser')"
   ]
  },
  {
   "cell_type": "code",
   "execution_count": 11,
   "metadata": {},
   "outputs": [
    {
     "name": "stdout",
     "output_type": "stream",
     "text": [
      "<p id=\"first\"> text:\n",
      " \n",
      "                First paragraph.\n",
      "            \n"
     ]
    }
   ],
   "source": [
    "p_id_first_content = parser.find_all('p', id='first')[0]\n",
    "p_id_first_text = p_id_first_content.text\n",
    "\n",
    "print('<p id=\"first\"> text:\\n', p_id_first_text)"
   ]
  },
  {
   "cell_type": "code",
   "execution_count": 12,
   "metadata": {},
   "outputs": [
    {
     "name": "stdout",
     "output_type": "stream",
     "text": [
      "<p id=\"second\"> text:\n",
      " \n",
      "\n",
      "                Second paragraph.\n",
      "            \n",
      "\n"
     ]
    }
   ],
   "source": [
    "p_id_second_content = parser.find_all('p', id='second')[0]\n",
    "p_id_second_text = p_id_second_content.text\n",
    "\n",
    "print('<p id=\"second\"> text:\\n', p_id_second_text)"
   ]
  },
  {
   "cell_type": "markdown",
   "metadata": {},
   "source": [
    "### Create a request for a URL with multiple class tags\n",
    "-------------------------"
   ]
  },
  {
   "cell_type": "code",
   "execution_count": 13,
   "metadata": {},
   "outputs": [],
   "source": [
    "response = requests.get('https://datakick.sfo2.digitaloceanspaces.com/datakick/media/platform/tutorials/scraping-web-data-using-selenium/simple_classes.html')"
   ]
  },
  {
   "cell_type": "markdown",
   "metadata": {},
   "source": [
    "### Check the content of the raw URL response\n",
    "-------------------------"
   ]
  },
  {
   "cell_type": "code",
   "execution_count": 14,
   "metadata": {},
   "outputs": [
    {
     "name": "stdout",
     "output_type": "stream",
     "text": [
      "content: b'<html>\\r\\n    <head>\\r\\n        <title>A simple example page</title>\\r\\n    </head>\\r\\n    <body>\\r\\n        <div>\\r\\n            <p class=\"inner-text\">\\r\\n                First paragraph.\\r\\n            </p>\\r\\n            <p class=\"inner-text\">\\r\\n                Second paragraph.\\r\\n            </p>\\r\\n        </div>\\r\\n        <p class=\"outer-text\">\\r\\n            <b>\\r\\n                First outer paragraph.\\r\\n            </b>\\r\\n        </p>\\r\\n        <p class=\"outer-text\">\\r\\n            <b>\\r\\n                Second outer paragraph.\\r\\n            </b>\\r\\n        </p>\\r\\n    </body>\\r\\n</html>'\n"
     ]
    }
   ],
   "source": [
    "content = response.content\n",
    "\n",
    "print(\"content:\", content)"
   ]
  },
  {
   "cell_type": "markdown",
   "metadata": {},
   "source": [
    "### Create a parser for the raw URL response and extract specific content\n",
    "-------------------------"
   ]
  },
  {
   "cell_type": "code",
   "execution_count": 15,
   "metadata": {},
   "outputs": [],
   "source": [
    "parser = BeautifulSoup(content, 'html.parser')"
   ]
  },
  {
   "cell_type": "code",
   "execution_count": 16,
   "metadata": {},
   "outputs": [
    {
     "name": "stdout",
     "output_type": "stream",
     "text": [
      "<p class=\"inner-text\"> text:\n",
      " \n",
      "                First paragraph.\n",
      "            \n",
      "<p class=\"inner-text\"> text:\n",
      " \n",
      "                Second paragraph.\n",
      "            \n"
     ]
    }
   ],
   "source": [
    "p_class_inner_content = parser.find_all('p', class_='inner-text')\n",
    "\n",
    "for content in p_class_inner_content:\n",
    "    p_class_inner_text = content.text\n",
    "\n",
    "    print('<p class=\"inner-text\"> text:\\n', p_class_inner_text)"
   ]
  },
  {
   "cell_type": "code",
   "execution_count": null,
   "metadata": {},
   "outputs": [],
   "source": []
  }
 ],
 "metadata": {
  "kernelspec": {
   "display_name": "Python 3",
   "language": "python",
   "name": "python3"
  },
  "language_info": {
   "codemirror_mode": {
    "name": "ipython",
    "version": 3
   },
   "file_extension": ".py",
   "mimetype": "text/x-python",
   "name": "python",
   "nbconvert_exporter": "python",
   "pygments_lexer": "ipython3",
   "version": "3.8.5"
  }
 },
 "nbformat": 4,
 "nbformat_minor": 4
}
